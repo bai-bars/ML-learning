{
  "nbformat": 4,
  "nbformat_minor": 0,
  "metadata": {
    "colab": {
      "name": "lab2_2017331010_2017331088.ipynb",
      "provenance": [],
      "collapsed_sections": []
    },
    "kernelspec": {
      "name": "python3",
      "display_name": "Python 3"
    },
    "language_info": {
      "name": "python"
    }
  },
  "cells": [
    {
      "cell_type": "code",
      "execution_count": 50,
      "metadata": {
        "id": "sSNYeA7XmHOK"
      },
      "outputs": [],
      "source": [
        "import numpy as np\n",
        "import matplotlib.pyplot as plt\n",
        "import seaborn as sns\n",
        "import warnings\n",
        "warnings.filterwarnings('ignore')\n",
        "\n",
        "rooms = np.array([2, 2, 3, 3, 3, 4, 4, 5], dtype='float')\n",
        "areas = np.array([800, 1000, 1200, 1400, 1500, 1800, 2000, 2500], dtype='float')\n",
        "prices = np.array([2000, 3000, 4000, 4200, 4500, 5000, 5500, 6500])"
      ]
    },
    {
      "cell_type": "markdown",
      "source": [
        "# ***TASK -1***\n",
        "### <font color='gray'>Plot Price vs #Rooms and Price vs Area</font>"
      ],
      "metadata": {
        "id": "X-M06wR9Ik0n"
      }
    },
    {
      "cell_type": "code",
      "source": [
        "# PRICE VS NUMBER OF ROOMS\n",
        "\n",
        "plt.subplot(3,1,1)\n",
        "plt.xlabel('#Rooms')\n",
        "plt.ylabel('Price (K BDT)')\n",
        "plt.scatter(rooms,prices);\n",
        "\n",
        "plt.subplot(3,1,3)\n",
        "plt.xlabel('#Rooms')\n",
        "plt.ylabel('Price (K BDT)')\n",
        "plt.plot(rooms,prices);"
      ],
      "metadata": {
        "colab": {
          "base_uri": "https://localhost:8080/",
          "height": 280
        },
        "id": "sKKj762i7EG8",
        "outputId": "558c5796-bdb9-453d-ed01-216d77ffe769"
      },
      "execution_count": 51,
      "outputs": [
        {
          "output_type": "display_data",
          "data": {
            "text/plain": [
              "<Figure size 432x288 with 2 Axes>"
            ],
            "image/png": "[encoded data removed]"
          },
          "metadata": {
            "needs_background": "light"
          }
        }
      ]
    },
    {
      "cell_type": "code",
      "source": [
        "# PRICE VS AREA\n",
        "\n",
        "plt.subplot(3,1,1)\n",
        "plt.xlabel('Area')\n",
        "plt.ylabel('Price (K BDT)')\n",
        "plt.scatter(areas,prices);\n",
        "\n",
        "plt.subplot(3,1,3)\n",
        "plt.xlabel('Area')\n",
        "plt.ylabel('Price (K BDT)')\n",
        "plt.plot(areas,prices);"
      ],
      "metadata": {
        "colab": {
          "base_uri": "https://localhost:8080/",
          "height": 280
        },
        "id": "W7vJuIhKZmkK",
        "outputId": "7a5d88d2-aead-4e20-b744-d1481bea3423"
      },
      "execution_count": 52,
      "outputs": [
        {
          "output_type": "display_data",
          "data": {
            "text/plain": [
              "<Figure size 432x288 with 2 Axes>"
            ],
            "image/png": "[encoded data removed]"
          },
          "metadata": {
            "needs_background": "light"
          }
        }
      ]
    },
    {
      "cell_type": "markdown",
      "source": [
        "# ***TASK -2***\n",
        "### <font color='gray'>Write Linear Regression Formula</font>\n"
      ],
      "metadata": {
        "id": "je4hii_Taw52"
      }
    },
    {
      "cell_type": "markdown",
      "source": [
        "**Hypothesis Function:**<br>\n",
        "> $ h_{\\theta}(x) =  \\theta^{T}X = \\theta_{0} + \\theta_{1}x_{1} + \\theta_{2}x_{2} $\n",
        "\n",
        ">>1. $ \\theta_{0},\\theta_{1},\\theta_{2} $ are the *Parameters* to make the best fit<br>\n",
        ">>2. $ x_{1} = $ *Number of Rooms* , $ x_{2} = $ *Area* \n",
        "\n",
        "**Cost Function:**<br>\n",
        ">$ J(\\theta_{0},\\theta_{1},\\theta_{2}) = \\frac{1}{2m}  \\sum \\limits _{j=1} ^{m} \n",
        "(h_{\\theta}(x^{(i)}) - y^{(i)})^2$ <br>\n",
        "&emsp;&emsp;&emsp;&emsp; Here we have to minimize this Cost Function(J)"
      ],
      "metadata": {
        "id": "7yA85O7PyL2R"
      }
    },
    {
      "cell_type": "markdown",
      "source": [
        "# ***TASK -3***\n",
        "### <font color='gray'>Implement Gradient Descent Optimization</font>\n"
      ],
      "metadata": {
        "id": "67lVKGW0f4Jx"
      }
    },
    {
      "cell_type": "code",
      "source": [
        "def get_scaled_val(val, max_val, min_val, avg_val):\n",
        "  return (val-avg_val) / (max_val - min_val)\n",
        "\n",
        "# OUR IMPLEMENTATION OF LINEAR REGRESSION\n",
        "class My_multilinear_regression:\n",
        "  cost = None\n",
        "\n",
        "  def __init__(self, X, Y):\n",
        "    self.X = X\n",
        "    self.Y = Y\n",
        "    self.m = X.shape[0]\n",
        "    self.n = X.shape[1]\n",
        "    self.Theta = None\n",
        "\n",
        "\n",
        "  def feature_scale(self):\n",
        "    '''\n",
        "      THIS METHOD WILL SCALE THE FEATURE\n",
        "    '''\n",
        "    for i in range(1, self.X.shape[1]):\n",
        "      arr = self.X[ : , i]\n",
        "      max_val = max(arr)\n",
        "      min_val = min(arr)\n",
        "      avg_val = sum(arr) / len(arr)\n",
        "\n",
        "      for j in range(len(arr)):\n",
        "        arr[j] = get_scaled_val(arr[j], max_val, min_val, avg_val)\n",
        "    \n",
        "\n",
        "  def fit_line(self, num_of_itr = 1000, learning_rate = 0.01):\n",
        "    Theta = np.ones(self.n)   \n",
        "    costs = np.ones(num_of_itr)\n",
        "\n",
        "    self.feature_scale()\n",
        "    print('AFTER SCALING: ',self.X)\n",
        "    h = np.dot(self.X, Theta)\n",
        "     \n",
        "    for i in range(num_of_itr):\n",
        "      h = np.dot(self.X, Theta) # HYPOTHESIS FUNCTION\n",
        "      costs[i] = (1/(2*self.m)) * sum(np.square(h-self.Y))\n",
        "      \n",
        "      for j in range(self.n):\n",
        "        Theta[j] = Theta[j] - learning_rate * (1/self.m) * sum((h-self.Y) * self.X[:, j])\n",
        "\n",
        "    \n",
        "    # Theta[1] = get_scaled_val(Theta[1], 5, 2, 3.25)\n",
        "    # Theta[1] = get_scaled_val(Theta[2], 2500,800,1525)\n",
        "\n",
        "    self.Theta = Theta\n",
        "\n",
        "    return self.Theta, costs\n",
        "\n",
        "  def predict(self, input_vector):\n",
        "    '''THIS METHOD WILL PREDICT THE\n",
        "       THE OUTPUT VALUE'''\n",
        "    return np.dot(input_vector, self.Theta);\n",
        "\n",
        "       \n",
        "\n"
      ],
      "metadata": {
        "id": "7TcAsMRAIeq_"
      },
      "execution_count": 53,
      "outputs": []
    },
    {
      "cell_type": "code",
      "source": [
        "# DRIVER CODE TO RUN THE IMPLEMENTED MODEL\n",
        "x_0 = np.ones(8 , dtype= 'float') # CREATE COLUMN VECTOR WITH 1\n",
        "X = np.column_stack((x_0, rooms,areas)) # CREATE X\n",
        "Y = prices # TRUE VALUES\n",
        "\n",
        "lin_reg = My_multilinear_regression(X,Y)\n",
        "Theta,costs = lin_reg.fit_line()"
      ],
      "metadata": {
        "colab": {
          "base_uri": "https://localhost:8080/"
        },
        "id": "hG4DQi2NKhj2",
        "outputId": "f2280ccd-19f1-4325-ae28-f490ced9b45d"
      },
      "execution_count": 54,
      "outputs": [
        {
          "output_type": "stream",
          "name": "stdout",
          "text": [
            "AFTER SCALING:  [[ 1.         -0.41666667 -0.42647059]\n",
            " [ 1.         -0.41666667 -0.30882353]\n",
            " [ 1.         -0.08333333 -0.19117647]\n",
            " [ 1.         -0.08333333 -0.07352941]\n",
            " [ 1.         -0.08333333 -0.01470588]\n",
            " [ 1.          0.25        0.16176471]\n",
            " [ 1.          0.25        0.27941176]\n",
            " [ 1.          0.58333333  0.57352941]]\n"
          ]
        }
      ]
    },
    {
      "cell_type": "markdown",
      "source": [
        "# ***TASK -4***\n",
        "### <font color='gray'>Changes of Error</font>\n"
      ],
      "metadata": {
        "id": "GWRyqCuryRPI"
      }
    },
    {
      "cell_type": "code",
      "source": [
        "plt.title(\"Costs vs Number of Iteration\")\n",
        "plt.xlabel(\"Number of iterations\")\n",
        "plt.ylabel(\"Costs\")\n",
        "plt.plot(costs)"
      ],
      "metadata": {
        "colab": {
          "base_uri": "https://localhost:8080/",
          "height": 312
        },
        "id": "UJ6IHjx-yIlf",
        "outputId": "011b0fc0-b329-4b9d-b2b0-c1434fbc46c6"
      },
      "execution_count": 55,
      "outputs": [
        {
          "output_type": "execute_result",
          "data": {
            "text/plain": [
              "[<matplotlib.lines.Line2D at 0x7fc2c4efde50>]"
            ]
          },
          "metadata": {},
          "execution_count": 55
        },
        {
          "output_type": "display_data",
          "data": {
            "text/plain": [
              "<Figure size 432x288 with 1 Axes>"
            ],
            "image/png": "[encoded data removed]"
          },
          "metadata": {
            "needs_background": "light"
          }
        }
      ]
    },
    {
      "cell_type": "markdown",
      "source": [
        "# ***TASK -5***\n",
        "### <font color='gray'>Show the estimated model</font>\n"
      ],
      "metadata": {
        "id": "5Q5y-AkZyi4z"
      }
    },
    {
      "cell_type": "code",
      "source": [
        "print('Parameters of our model: ',Theta)"
      ],
      "metadata": {
        "colab": {
          "base_uri": "https://localhost:8080/"
        },
        "id": "yAo80OoiaUbS",
        "outputId": "69550da4-ea65-47ef-97cf-295c3dbdc2b1"
      },
      "execution_count": 56,
      "outputs": [
        {
          "output_type": "stream",
          "name": "stdout",
          "text": [
            "Parameters of our model:  [4337.31278789 1779.02042607 1745.22550864]\n"
          ]
        }
      ]
    },
    {
      "cell_type": "markdown",
      "source": [
        "# ***TASK -6***\n",
        "### <font color='gray'>Calculate Total Loss</font>\n"
      ],
      "metadata": {
        "id": "gWNU8gYiy_FC"
      }
    },
    {
      "cell_type": "code",
      "source": [
        "y_predicted = [lin_reg.predict(i) for i in lin_reg.X]\n",
        "m = lin_reg.m\n",
        "\n",
        "total_loss = 1/m * sum(Y - y_predicted)**2\n",
        "print('TOTAL LOSS:', total_loss)"
      ],
      "metadata": {
        "id": "qvvf_zjazKUX",
        "colab": {
          "base_uri": "https://localhost:8080/"
        },
        "outputId": "6611728c-6e21-4acf-cf00-ae36df73b85d"
      },
      "execution_count": 57,
      "outputs": [
        {
          "output_type": "stream",
          "name": "stdout",
          "text": [
            "TOTAL LOSS: 0.2803870062105973\n"
          ]
        }
      ]
    },
    {
      "cell_type": "markdown",
      "source": [
        "# ***TASK -7***\n",
        "### <font color='gray'>Generate some Test Data and Predic</font>\n"
      ],
      "metadata": {
        "id": "euTukBISpB2X"
      }
    },
    {
      "cell_type": "code",
      "source": [
        "# GENERATE SOME TEST DATA\n",
        "X_test_data = np.array([[ 1, -0.43, -0.42],\n",
        "     [ 1, -0.42, -0.31],\n",
        "     [ 1, -0.081, -0.2],\n",
        "     [ 1, -0.081, -0.072],\n",
        "     [ 1, -0.083, -0.014],\n",
        "     [ 1, 0.26, 0.17],\n",
        "     [ 1, 0.25, 0.27],\n",
        "     [ 1, 0.6, 0.55]])\n",
        "\n",
        "y_predicted_test = [lin_reg.predict(i) for i in X_test_data]\n",
        "\n",
        "print('PREDICTED Y FROM TEST DATA: ', y_predicted_test)"
      ],
      "metadata": {
        "colab": {
          "base_uri": "https://localhost:8080/"
        },
        "id": "hhWd8D3ypJSO",
        "outputId": "dd8113ec-207e-4e61-d104-a5dbc252ce75"
      },
      "execution_count": 58,
      "outputs": [
        {
          "output_type": "stream",
          "name": "stdout",
          "text": [
            "PREDICTED Y FROM TEST DATA:  [2839.339291047745, 3049.104301258976, 3844.167031645944, 4067.555896752062, 4165.22093540114, 5096.546435131846, 5253.27878173534, 6364.599073278097]\n"
          ]
        }
      ]
    },
    {
      "cell_type": "markdown",
      "source": [
        "# ***TASK -8***\n",
        "### <font color='gray'>Use Python Library</font>\n"
      ],
      "metadata": {
        "id": "_rbaVwinqAup"
      }
    },
    {
      "cell_type": "code",
      "source": [
        "import pandas as pd\n",
        "from sklearn import linear_model\n",
        "\n",
        "df_X = pd.DataFrame(X, columns=['x_0','x_1','x_2'])\n",
        "df_Y = pd.DataFrame(Y, columns=['y'])\n",
        "\n",
        "lin_model = linear_model.LinearRegression()\n",
        "lin_model.fit(df_X, df_Y)"
      ],
      "metadata": {
        "colab": {
          "base_uri": "https://localhost:8080/"
        },
        "id": "I31yi3E1qH7S",
        "outputId": "be597ff2-90ac-4aa6-8ad3-3ea1720c2cf3"
      },
      "execution_count": 59,
      "outputs": [
        {
          "output_type": "execute_result",
          "data": {
            "text/plain": [
              "LinearRegression()"
            ]
          },
          "metadata": {},
          "execution_count": 59
        }
      ]
    },
    {
      "cell_type": "markdown",
      "source": [
        "# ***TASK -9***\n",
        "### <font color='gray'>Repeat Tasks **5-7** and Compare</font>\n"
      ],
      "metadata": {
        "id": "eQ46fP_WqPEh"
      }
    },
    {
      "cell_type": "markdown",
      "source": [
        "&emsp;&emsp;***TASK - i*** <br>\n",
        "&emsp;&emsp;<font color='gray'>Model Parameters Using library</font>\n"
      ],
      "metadata": {
        "id": "7DysZlAoz6F8"
      }
    },
    {
      "cell_type": "code",
      "source": [
        "print(f'Parameters Using Model: {lin_model.intercept_[0]}, {lin_model.coef_[0][1]}, {lin_model.coef_[0][1]}')"
      ],
      "metadata": {
        "colab": {
          "base_uri": "https://localhost:8080/"
        },
        "id": "7_0Yd9mcqXzn",
        "outputId": "629448b8-1ec7-4188-b7e6-50bb17a1d3f6"
      },
      "execution_count": 60,
      "outputs": [
        {
          "output_type": "stream",
          "name": "stdout",
          "text": [
            "Parameters Using Model: 4337.5, 792.2535211267568, 792.2535211267568\n"
          ]
        }
      ]
    },
    {
      "cell_type": "markdown",
      "source": [
        "&emsp;&emsp;***TASK - ii*** <br>\n",
        "&emsp;&emsp;<font color='gray'>Predict Using library Model</font>\n",
        "\n"
      ],
      "metadata": {
        "id": "CGO-XTUX0OU4"
      }
    },
    {
      "cell_type": "code",
      "source": [
        "# PREDICT USING PYTHON LIBRARY MODEL\n",
        "y_predicted_model_2d = lin_model.predict(X)\n",
        "y_predicted_model = np.array([i[0] for i in y_predicted_model_2d])\n",
        "print('PREDICT Y FROM LIBRARY MODEL:', y_predicted_model)"
      ],
      "metadata": {
        "colab": {
          "base_uri": "https://localhost:8080/"
        },
        "id": "2-9aeiBwt69V",
        "outputId": "bdff0587-8fbc-46f5-9e79-9826bb229009"
      },
      "execution_count": 63,
      "outputs": [
        {
          "output_type": "stream",
          "name": "stdout",
          "text": [
            "PREDICT Y FROM LIBRARY MODEL: [2567.6056338  2964.78873239 3626.05633803 4023.23943662 4221.83098592\n",
            " 5081.69014085 5478.87323944 6735.91549296]\n"
          ]
        }
      ]
    },
    {
      "cell_type": "markdown",
      "source": [
        "&emsp;&emsp;***TASK - iii*** <br>\n",
        "&emsp;&emsp;<font color='gray'>Calculate Loss Using library model</font>\n"
      ],
      "metadata": {
        "id": "7b5uk1XT0lRr"
      }
    },
    {
      "cell_type": "code",
      "source": [
        "# CALCULATE TOTAL LOSS\n",
        "total_loss_model = 1/m * sum(Y - y_predicted_model)**2\n",
        "\n",
        "print('TOTAL LOSS USING PYTHON LIBRARY MODEL: ', total_loss_model)"
      ],
      "metadata": {
        "colab": {
          "base_uri": "https://localhost:8080/"
        },
        "id": "W4rWQPL5zjaY",
        "outputId": "f410b35c-9f42-480c-b9cc-6011a12feae5"
      },
      "execution_count": 64,
      "outputs": [
        {
          "output_type": "stream",
          "name": "stdout",
          "text": [
            "TOTAL LOSS USING PYTHON LIBRARY MODEL:  1.0339757656912846e-25\n"
          ]
        }
      ]
    },
    {
      "cell_type": "markdown",
      "source": [
        "&emsp;&emsp;***TASK - iv*** <br>\n",
        "&emsp;&emsp;<font color='gray'>Predict from Test data Using library model</font>\n"
      ],
      "metadata": {
        "id": "F_rYlxrl0t6q"
      }
    },
    {
      "cell_type": "code",
      "source": [
        "# PREDICT From Test Data using library model\n",
        "y_test_predicted_model_2d = lin_model.predict(X_test_data)\n",
        "\n",
        "print(y_test_predicted_model_2d)\n",
        "\n"
      ],
      "metadata": {
        "colab": {
          "base_uri": "https://localhost:8080/"
        },
        "id": "g8EGfYvEz1pV",
        "outputId": "e212ff3d-cb91-4c4d-e890-e0c8af84ed30"
      },
      "execution_count": 65,
      "outputs": [
        {
          "output_type": "stream",
          "name": "stdout",
          "text": [
            "[[2578.88732394]\n",
            " [2958.17605634]\n",
            " [3598.11619718]\n",
            " [4030.25140845]\n",
            " [4224.47816901]\n",
            " [5117.41549296]\n",
            " [5447.09859155]\n",
            " [6669.68309859]]\n"
          ]
        }
      ]
    },
    {
      "cell_type": "markdown",
      "source": [
        "&emsp;&emsp;***TASK - v*** <br>\n",
        "&emsp;&emsp;<font color='gray'>Compare</font>"
      ],
      "metadata": {
        "id": "FALGUeWg11TZ"
      }
    },
    {
      "cell_type": "code",
      "source": [
        "print('TOTAL LOSS FROM OUR IMPLENATION:', total_loss)\n",
        "print('TOTAL LOSS FROM PYTHON LIBRARY:', total_loss_model)\n",
        "\n",
        "print('\\n\\n')\n",
        "print('Y From Our Model              Y From library Model')\n",
        "print('----------------              ---------------------')\n",
        "for i in range(8):\n",
        "  print(f'{y_predicted[i]}              {y_predicted_model[i]}')"
      ],
      "metadata": {
        "colab": {
          "base_uri": "https://localhost:8080/"
        },
        "id": "diJ8WNs517cW",
        "outputId": "d42c1a90-0f76-481e-9a60-4eb3b24893b8"
      },
      "execution_count": 66,
      "outputs": [
        {
          "output_type": "stream",
          "name": "stdout",
          "text": [
            "TOTAL LOSS FROM OUR IMPLENATION: 0.2803870062105973\n",
            "TOTAL LOSS FROM PYTHON LIBRARY: 1.0339757656912846e-25\n",
            "\n",
            "\n",
            "\n",
            "Y From Our Model              Y From library Model\n",
            "----------------              ---------------------\n",
            "2851.7669277511413              2567.6056338028175\n",
            "3057.087575826618              2964.788732394367\n",
            "3855.4150325907835              3626.056338028169\n",
            "4060.7356806662597              4023.2394366197186\n",
            "4163.396004703998              4221.830985915493\n",
            "5064.383785505902              5081.69014084507\n",
            "5269.704433581378              5478.87323943662\n",
            "6376.012862458758              6735.915492957745\n"
          ]
        }
      ]
    }
  ]
}